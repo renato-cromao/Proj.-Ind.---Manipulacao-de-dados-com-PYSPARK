{
  "nbformat": 4,
  "nbformat_minor": 0,
  "metadata": {
    "colab": {
      "name": "Projeto-Individual-SC-PYSPARK-V2-2.ipynb",
      "provenance": [],
      "collapsed_sections": []
    },
    "kernelspec": {
      "name": "python3",
      "display_name": "Python 3"
    },
    "language_info": {
      "name": "python"
    }
  },
  "cells": [
    {
      "cell_type": "markdown",
      "source": [
        "## **Instalando o PySpark**"
      ],
      "metadata": {
        "id": "5Te2KuSjWroy"
      }
    },
    {
      "cell_type": "code",
      "execution_count": null,
      "metadata": {
        "id": "2qRo8fJWWoPv"
      },
      "outputs": [],
      "source": [
        "!pip install pyspark\n",
        "!pip install gcsfs\n",
        "!pip install pymongo[srv]"
      ]
    },
    {
      "cell_type": "markdown",
      "source": [
        "## **Importando as bibliotecas**"
      ],
      "metadata": {
        "id": "mfCKp3OvW_Y5"
      }
    },
    {
      "cell_type": "code",
      "source": [
        "from pyspark.sql import SparkSession\n",
        "from pyspark import SparkConf\n",
        "import pyspark.sql.functions as F\n",
        "import pandas as pd\n",
        "from google.cloud import storage\n",
        "import os\n",
        "from pyspark.sql.types import StructType, StructField, StringType, IntegerType, FloatType, DateType\n",
        "from pyspark.sql.window import Window\n",
        "from pyspark.sql.functions import dense_rank\n",
        "from pyspark.sql.functions import rank\n",
        "import pymongo\n",
        "from pymongo import MongoClient"
      ],
      "metadata": {
        "id": "YtF2bFY_WrPY"
      },
      "execution_count": null,
      "outputs": []
    },
    {
      "cell_type": "markdown",
      "source": [
        "## **Configurando o acesso do Colab ao bucket.**"
      ],
      "metadata": {
        "id": "_JHUFJcGXCux"
      }
    },
    {
      "cell_type": "code",
      "source": [
        "from  google.colab import drive\n",
        "drive.mount('/content/drive')"
      ],
      "metadata": {
        "id": "5RtTjR9tWrLN"
      },
      "execution_count": null,
      "outputs": []
    },
    {
      "cell_type": "code",
      "source": [
        "serviceAccount = '/content/drive/[LINK DA CHAVE DO BUCKET]'\n",
        "os.environ['GOOGLE_APPLICATION_CREDENTIALS'] = serviceAccount"
      ],
      "metadata": {
        "id": "mfmvSDedWrI7"
      },
      "execution_count": null,
      "outputs": []
    },
    {
      "cell_type": "code",
      "source": [
        "client = storage.Client()\n",
        "bucket = client.get_bucket('projeto-individual-sc')\n",
        "bucket.blob('marketing_campaign.csv')\n",
        "path = 'gs://[LINK DO ARQUIVO NO BUCKET]'"
      ],
      "metadata": {
        "id": "4QDgZ4ZHWrHV"
      },
      "execution_count": null,
      "outputs": []
    },
    {
      "cell_type": "markdown",
      "source": [
        "## **Configurando o PySpark**"
      ],
      "metadata": {
        "id": "B3u-UkMUXeMi"
      }
    },
    {
      "cell_type": "code",
      "source": [
        "spark = (\n",
        "    SparkSession.builder\n",
        "    .master('local')\n",
        "    .appName('ProjetoIndividual')\n",
        "    .config('spark.ui.port','4050')\n",
        "    .config(\"spark.jars\", 'https://storage.googleapis.com/hadoop-lib/gcs/gcs-connector-hadoop2-latest.jar')\n",
        "    .getOrCreate()\n",
        ")"
      ],
      "metadata": {
        "id": "dhO_k_fwWrFP"
      },
      "execution_count": null,
      "outputs": []
    },
    {
      "cell_type": "code",
      "source": [
        "dfs = (spark.read\n",
        "           .format('csv')\n",
        "           .option('header', 'true')\n",
        "           .option('inferschema', 'true')\n",
        "           .option('delimiter', ',')\n",
        "           .load(path)\n",
        "      )"
      ],
      "metadata": {
        "id": "_AXxljs2WrDK"
      },
      "execution_count": null,
      "outputs": []
    },
    {
      "cell_type": "code",
      "source": [
        "dfs.show(5)"
      ],
      "metadata": {
        "id": "PyObg3XpWrA3"
      },
      "execution_count": null,
      "outputs": []
    },
    {
      "cell_type": "markdown",
      "source": [
        "## **Montando o Schema com os StructType**"
      ],
      "metadata": {
        "id": "TgLCB7RRXhgi"
      }
    },
    {
      "cell_type": "code",
      "source": [
        "schema = ( StructType ([\n",
        "   StructField(\"ID\", IntegerType(), True),\n",
        "   StructField(\"Year_Birth\", StringType(), True),\n",
        "   StructField(\"Education\", StringType(), True),\n",
        "   StructField(\"Marital_Status\", StringType(), True),\n",
        "   StructField(\"Income\", IntegerType(), True),\n",
        "   StructField(\"Kidhome\", IntegerType(), True),\n",
        "   StructField(\"Teenhome\", IntegerType(), True),\n",
        "   StructField(\"Dt_Customer\", StringType(), True),\n",
        "   StructField(\"Recency\", IntegerType(), True),\n",
        "   StructField(\"MntWines\", IntegerType(), True),\n",
        "   StructField(\"MntFruits\", IntegerType(), True),\n",
        "   StructField(\"MntMeatProducts\", IntegerType(), True),\n",
        "   StructField(\"MntFishProducts\", IntegerType(), True),\n",
        "   StructField(\"MntSweetProducts\", IntegerType(), True),\n",
        "   StructField(\"MntGoldProds\", IntegerType(), True),\n",
        "   StructField(\"NumDealsPurchases\",IntegerType(), True),\n",
        "   StructField(\"NumWebPurchases\", IntegerType(), True),\n",
        "   StructField(\"NumCatalogPurchases\", IntegerType(), True),\n",
        "   StructField(\"NumStorePurchases\", IntegerType(), True),\n",
        "   StructField(\"NumWebVisitsMonth\", IntegerType(), True),\n",
        "   StructField(\"AcceptedCmp3\", IntegerType(), True),\n",
        "   StructField(\"AcceptedCmp4\", IntegerType(), True),\n",
        "   StructField(\"AcceptedCmp5\", IntegerType(), True),\n",
        "   StructField(\"AcceptedCmp1\", IntegerType(), True),\n",
        "   StructField(\"AcceptedCmp2\", IntegerType(), True),\n",
        "   StructField(\"Complain\", IntegerType(), True),\n",
        "   StructField(\"Z_CostContact\", IntegerType(), True),\n",
        "   StructField(\"Z_Revenue\", IntegerType(), True),\n",
        "   StructField(\"Response\", IntegerType(), True),      \n",
        "   ])\n",
        ")\n",
        "\n"
      ],
      "metadata": {
        "id": "S-jF67XzWq-w"
      },
      "execution_count": null,
      "outputs": []
    },
    {
      "cell_type": "markdown",
      "source": [
        "## **Criando um backup para o dataframe**"
      ],
      "metadata": {
        "id": "8qrwFyRvXn2p"
      }
    },
    {
      "cell_type": "code",
      "source": [
        "dfs1 = dfs\n",
        "dfs2 = dfs1\n",
        "dfs3 = dfs2"
      ],
      "metadata": {
        "id": "nJ9eC0qqWq8p"
      },
      "execution_count": null,
      "outputs": []
    },
    {
      "cell_type": "markdown",
      "source": [
        "## **Traduzindo as colunas**"
      ],
      "metadata": {
        "id": "300mgDUVXqAK"
      }
    },
    {
      "cell_type": "code",
      "source": [
        "dfs = dfs.withColumnRenamed('Year_Birth', 'Ano_de _Nascimento').withColumnRenamed('Education', \"Escolaridade\").withColumnRenamed('Marital_Status', \"Estado_Civil\").withColumnRenamed('Income', \"Rendimento\").withColumnRenamed('Kidhome', 'Qtd_de_crianças').withColumnRenamed('Teenhome', 'Qtd_de_adolescentes').withColumnRenamed('Dt_Customer', 'Data_de_inscricao').withColumnRenamed('Recency', \"Qtd_dias_ultima_compra\").withColumnRenamed('MntWines', 'Despesa_vinho').withColumnRenamed('MntFruits', \"Despesa_frutas\").withColumnRenamed('MntMeatProducts', 'Despesa_carne').withColumnRenamed('MntFishProducts', \"Despesa_peixe\").withColumnRenamed('MntSweetProducts', 'Despesa_doces').withColumnRenamed('MntGoldProds', \"Despesa_Ouro\").withColumnRenamed('NumDealsPurchases', 'Qtd_desconto_compras').withColumnRenamed('NumWebPurchases', \"Qtd_compras_web\").withColumnRenamed('NumCatalogPurchases', 'Qtd_compras_catalogo').withColumnRenamed('NumStorePurchases', \"Qtd_compras_loja\").withColumnRenamed('NumWebVisitsMonth', 'Qtd_visita_site_mes').withColumnRenamed('AcceptedCmp1', \"Tentativa1\").withColumnRenamed('AcceptedCmp2', 'Tentativa2').withColumnRenamed('AcceptedCmp3', \"Tentativa3\").withColumnRenamed('AcceptedCmp4', 'Tentativa4').withColumnRenamed('AcceptedCmp5', \"Tentativa5\").withColumnRenamed('Complain', 'Criticas').withColumnRenamed('Z_CostContact', \"Custos_de _contato\").withColumnRenamed('Response', 'Resposta').withColumnRenamed('Z_Revenue', \"Revenda\")"
      ],
      "metadata": {
        "id": "mJg6Vr2vWq5y"
      },
      "execution_count": null,
      "outputs": []
    },
    {
      "cell_type": "code",
      "source": [
        "#Renomeando a coluna para retirar o \"ç\" da palavra\n",
        "dfs = dfs.withColumnRenamed('Qtd_de_crianças', 'Qtd_de_criancas')"
      ],
      "metadata": {
        "id": "4E_6Py7zs3i6"
      },
      "execution_count": null,
      "outputs": []
    },
    {
      "cell_type": "markdown",
      "source": [
        "## **Traduzindo os valores das colunas [Estado_civil] e [Escolaridade]**"
      ],
      "metadata": {
        "id": "4k5q17rGXrZa"
      }
    },
    {
      "cell_type": "code",
      "source": [
        "dfs = dfs.replace({'Single':\"Solteiro\"}, subset=['Estado_Civil'])\n",
        "dfs = dfs.replace({'Together':\"Uniao_estavel\"}, subset=['Estado_Civil'])\n",
        "dfs = dfs.replace({'Married':'Casado'}, subset=['Estado_Civil'])\n",
        "dfs = dfs.replace({'Divorced':'Divorciado'}, subset=['Estado_Civil'])\n",
        "dfs = dfs.replace({'Widow':'Viúvo(a)'}, subset=['Estado_Civil'])\n",
        "dfs = dfs.replace({'Graduation':'Graduação'}, subset=['Escolaridade'])\n",
        "dfs = dfs.replace({'Master':'Mestrado'}, subset=['Escolaridade'])\n",
        "dfs = dfs.replace({'Basic':'Fundamental'}, subset=['Escolaridade'])\n",
        "dfs = dfs.replace({'2n Cycle':'Pós graduação'}, subset=['Escolaridade'])"
      ],
      "metadata": {
        "id": "s51dzPQtWq3r"
      },
      "execution_count": null,
      "outputs": []
    },
    {
      "cell_type": "markdown",
      "source": [
        "## **Tratamento e limpezas**"
      ],
      "metadata": {
        "id": "Z7t23KDgXxqR"
      }
    },
    {
      "cell_type": "code",
      "source": [
        "#Trocando os valores de YOLO, Alone e Absurd para \"0\", pois o Mongo Db apresenta erro quando estamos subindo com valores nulos.\n",
        "dfs = dfs.replace({'YOLO': \"0\"}, subset=['Estado_Civil'])\n",
        "dfs = dfs.replace({'Absurd': \"0\"}, subset=['Estado_Civil'])\n",
        "dfs = dfs.replace({'Alone': \"0\"}, subset=['Estado_Civil'])"
      ],
      "metadata": {
        "id": "ujEUgFSxWqzF"
      },
      "execution_count": null,
      "outputs": []
    },
    {
      "cell_type": "code",
      "source": [
        "#Percorrendo as colunas para identificar se tem valores nulos\n",
        "for c in dfs.columns:\n",
        "  print(c, dfs.filter(F.col(c).isNull()).count())"
      ],
      "metadata": {
        "colab": {
          "base_uri": "https://localhost:8080/"
        },
        "id": "EunODwJ_Wqw5",
        "outputId": "104efcc3-6227-4483-dca9-e4f1bdb6ba62"
      },
      "execution_count": null,
      "outputs": [
        {
          "output_type": "stream",
          "name": "stdout",
          "text": [
            "ID 0\n",
            "Ano_de _Nascimento 0\n",
            "Escolaridade 0\n",
            "Estado_Civil 0\n",
            "Rendimento 24\n",
            "Qtd_de_criancas 0\n",
            "Qtd_de_adolescentes 0\n",
            "Data_de_inscricao 0\n",
            "Qtd_dias_ultima_compra 0\n",
            "Despesa_vinho 0\n",
            "Despesa_frutas 0\n",
            "Despesa_carne 0\n",
            "Despesa_peixe 0\n",
            "Despesa_doces 0\n",
            "Despesa_Ouro 0\n",
            "Qtd_desconto_compras 0\n",
            "Qtd_compras_web 0\n",
            "Qtd_compras_catalogo 0\n",
            "Qtd_compras_loja 0\n",
            "Qtd_visita_site_mes 0\n",
            "Tentativa3 0\n",
            "Tentativa4 0\n",
            "Tentativa5 0\n",
            "Tentativa1 0\n",
            "Tentativa2 0\n",
            "Criticas 0\n",
            "Custos_de _contato 0\n",
            "Revenda 0\n",
            "Resposta 0\n"
          ]
        }
      ]
    },
    {
      "cell_type": "code",
      "source": [
        "#Verificando a contagem geral dos valores no dataframe\n",
        "dfs.count()"
      ],
      "metadata": {
        "colab": {
          "base_uri": "https://localhost:8080/"
        },
        "id": "z_e70lNGWqqZ",
        "outputId": "4aebc439-919f-4bff-e441-bed260bd4cc1"
      },
      "execution_count": null,
      "outputs": [
        {
          "output_type": "execute_result",
          "data": {
            "text/plain": [
              "2240"
            ]
          },
          "metadata": {},
          "execution_count": 18
        }
      ]
    },
    {
      "cell_type": "code",
      "source": [
        "#Verificando a contagem geral dos valores no dataframe sem os valores nulos\n",
        "dfs.dropna().count()"
      ],
      "metadata": {
        "colab": {
          "base_uri": "https://localhost:8080/"
        },
        "id": "cyva2NjaWqmw",
        "outputId": "8cbb5c11-cbc1-4497-e9b2-bb8c73230fb4"
      },
      "execution_count": null,
      "outputs": [
        {
          "output_type": "execute_result",
          "data": {
            "text/plain": [
              "2216"
            ]
          },
          "metadata": {},
          "execution_count": 19
        }
      ]
    },
    {
      "cell_type": "code",
      "source": [
        "#Efetuando a limpeza dos valores nulos\n",
        "dfs = dfs.dropna()"
      ],
      "metadata": {
        "id": "hb89UfHHWqlh"
      },
      "execution_count": null,
      "outputs": []
    },
    {
      "cell_type": "code",
      "source": [
        "#Verificando a contagem geral dos valores para confirmar a operação\n",
        "dfs.dropna().count()"
      ],
      "metadata": {
        "colab": {
          "base_uri": "https://localhost:8080/"
        },
        "id": "qKmSoY6QWqim",
        "outputId": "b97b5a01-7da4-467c-abc9-a1c542031841"
      },
      "execution_count": null,
      "outputs": [
        {
          "output_type": "execute_result",
          "data": {
            "text/plain": [
              "2216"
            ]
          },
          "metadata": {},
          "execution_count": 21
        }
      ]
    },
    {
      "cell_type": "markdown",
      "source": [
        "***Dropando uma coluna***"
      ],
      "metadata": {
        "id": "ktDeozumYDtA"
      }
    },
    {
      "cell_type": "code",
      "source": [
        "dfs = dfs.drop('Revenda')"
      ],
      "metadata": {
        "id": "ZUnqskkQWqgq"
      },
      "execution_count": null,
      "outputs": []
    },
    {
      "cell_type": "code",
      "source": [
        "dfs.show(3)"
      ],
      "metadata": {
        "id": "RcBaiHmTWqed"
      },
      "execution_count": null,
      "outputs": []
    },
    {
      "cell_type": "markdown",
      "source": [
        "***Realizando a mudança de nome das colunas***\n",
        "\n",
        "Alteramos o nome das seguintes colunas:\n",
        "\n",
        "[Ano_de _nascimento] para [Ano_nascimento] \n",
        "Foi retirado o \" _de\", encurtando o nome da coluna.\n",
        "\n",
        "[Custos_de _contato] para [Custos_de_contato]\n",
        "Foi retirado o \" _de\", encurtando o nome da coluna."
      ],
      "metadata": {
        "id": "_fx32mj5YJFJ"
      }
    },
    {
      "cell_type": "code",
      "source": [
        "dfs = dfs.withColumnRenamed(\"Ano_de _Nascimento\", \"Ano_Nascimento\").withColumnRenamed(\"Custos_de _contato\", \"Custos_contato\")"
      ],
      "metadata": {
        "id": "yzkrxAG1Wqcm"
      },
      "execution_count": null,
      "outputs": []
    },
    {
      "cell_type": "code",
      "source": [
        "dfs.show(2)"
      ],
      "metadata": {
        "id": "1LcO_LmnWqaT"
      },
      "execution_count": null,
      "outputs": []
    },
    {
      "cell_type": "markdown",
      "source": [
        "*Criando novas colunas com Funções de Agrupamento, Agregação ou Joins*"
      ],
      "metadata": {
        "id": "58NsuONlcO8u"
      }
    },
    {
      "cell_type": "code",
      "source": [
        "#Criando uma nova coluna chamada 'SOMA_TENTATIVAS\", com a soma das colunas: Tentativa1, Tentativa2, Tentativa3, Tentativa4, Tentativa5\n",
        "dfs = dfs.withColumn(\"soma_Tentativas\", F.col(\"Tentativa3\") + F.col(\"Tentativa2\") + F.col(\"Tentativa1\") + F.col(\"Tentativa4\") + F.col(\"Tentativa5\"))\n",
        "#Criando uma nova coluna chamada 'SOMA_DESPESAS_COMIDAS', com a soma das colunas: Despesa_vinho, Despesa_frutas, Despesa_carne, Despesa_peixe, Despesa_doces, Despesa_Ouro\n",
        "dfs = dfs.withColumn(\"soma_Despesas_Comidas\", F.col(\"Despesa_Ouro\") + F.col(\"Despesa_doces\") + F.col(\"Despesa_peixe\") + F.col(\"Despesa_carne\") + F.col(\"Despesa_frutas\") + F.col(\"Despesa_vinho\"))"
      ],
      "metadata": {
        "id": "elXbKn1RWqXo"
      },
      "execution_count": null,
      "outputs": []
    },
    {
      "cell_type": "code",
      "source": [
        "dfs.show(2)"
      ],
      "metadata": {
        "id": "RpviGIKBWqVS"
      },
      "execution_count": null,
      "outputs": []
    },
    {
      "cell_type": "markdown",
      "source": [
        "*Filtros, ordenação e agrupamento*"
      ],
      "metadata": {
        "id": "XTj7f0oUc0Kd"
      }
    },
    {
      "cell_type": "code",
      "source": [
        "#EXIBIR A REGIÃO, ESTADO E ÓBITOS ACUMULADOS DA REGIÃO SUDESTE\n",
        "dfs.select(F.col('Escolaridade'), F.col(\"Estado_Civil\"), F.col(\"Rendimento\"))\\\n",
        ".show()"
      ],
      "metadata": {
        "id": "FLjPK8DKWqOz"
      },
      "execution_count": null,
      "outputs": []
    },
    {
      "cell_type": "markdown",
      "source": [
        "*Window Functions*"
      ],
      "metadata": {
        "id": "otYEmArehJYD"
      }
    },
    {
      "cell_type": "code",
      "source": [
        "win0 = Window.partitionBy('Escolaridade').orderBy(F.desc('Rendimento'))\n",
        "dfs30 = dfs.withColumn('Rendimento_Fx_Escolaridade', F.rank().over(win0))\n",
        "dfs30.show(10)"
      ],
      "metadata": {
        "id": "ayCyMLQWhN_6"
      },
      "execution_count": null,
      "outputs": []
    },
    {
      "cell_type": "code",
      "source": [
        "dfs31 = dfs30.withColumn(\"dense_rank\",dense_rank().over(win0)).show()"
      ],
      "metadata": {
        "id": "grdbik-KomlH"
      },
      "execution_count": null,
      "outputs": []
    },
    {
      "cell_type": "markdown",
      "source": [
        "# **SparkSQL**"
      ],
      "metadata": {
        "id": "_ClbNBU7mRJY"
      }
    },
    {
      "cell_type": "code",
      "source": [
        "#Analisando se as maiores escolaridades estão relacionadas a quem tem maiores rendimentos em relação ao estado civil\n",
        "\n",
        "dfs.createOrReplaceTempView('Spark_SQL')\n",
        "dfs21 = spark.sql('SELECT Escolaridade, Estado_Civil, Rendimento from Spark_SQL order by Estado_Civil')\n",
        "dfs21.show(100)\n"
      ],
      "metadata": {
        "id": "Wt7o_2HwioOB"
      },
      "execution_count": null,
      "outputs": []
    },
    {
      "cell_type": "code",
      "source": [
        "#Analisando o gasto de doces em relação a quantidade de criança\n",
        "dfs.createOrReplaceTempView('Spark_SQL')\n",
        "dfs22 = spark.sql('SELECT Estado_Civil, Qtd_de_criancas, Despesa_doces from Spark_SQL order by Despesa_doces')\n",
        "dfs22.show(100)"
      ],
      "metadata": {
        "id": "4IG7VAvSr_j3"
      },
      "execution_count": null,
      "outputs": []
    },
    {
      "cell_type": "code",
      "source": [
        "#Analisando o gasto de carnes em relação a quantidade de adolescentes\n",
        "dfs.createOrReplaceTempView('Spark_SQL')\n",
        "dfs23 = spark.sql('SELECT Estado_Civil, Qtd_de_adolescentes, Despesa_carne from Spark_SQL order by Despesa_carne')\n",
        "dfs23.show(100)"
      ],
      "metadata": {
        "id": "ZRuntoCQtnQ5"
      },
      "execution_count": null,
      "outputs": []
    },
    {
      "cell_type": "code",
      "source": [
        "#Analisando se as maiores escolaridades estão relacionadas a quem tem maiores rendimentos em relação ao estado civil\n",
        "\n",
        "dfs.createOrReplaceTempView('Spark_SQL')\n",
        "dfs24 = spark.sql('SELECT Escolaridade, Qtd_compras_web, Qtd_compras_catalogo, Qtd_compras_loja from Spark_SQL order by Escolaridade')\n",
        "dfs24.show(100)"
      ],
      "metadata": {
        "id": "8pfepjSouAuq"
      },
      "execution_count": null,
      "outputs": []
    },
    {
      "cell_type": "code",
      "source": [
        "#Analisando qual o estado civil que consome mais vinho \n",
        "dfs.createOrReplaceTempView('Spark_SQL')\n",
        "dfs25 = spark.sql('SELECT Estado_Civil, Despesa_vinho from Spark_SQL order by Estado_Civil')\n",
        "dfs25.show(100)"
      ],
      "metadata": {
        "id": "WOY4-dTyuhh0"
      },
      "execution_count": null,
      "outputs": []
    },
    {
      "cell_type": "markdown",
      "source": [
        "## **Convertendo o dataframe tratado em PySpark para o Pandas, para subirmos ele para o Mongodb**"
      ],
      "metadata": {
        "id": "6wezNqFnu_2g"
      }
    },
    {
      "cell_type": "code",
      "source": [
        "psdf = dfs.toPandas()\n",
        "print(psdf)\n"
      ],
      "metadata": {
        "id": "Y9zN0HJqJX8k"
      },
      "execution_count": null,
      "outputs": []
    },
    {
      "cell_type": "code",
      "source": [
        "psdf.head()"
      ],
      "metadata": {
        "id": "F7C48NoRJ1-s"
      },
      "execution_count": null,
      "outputs": []
    },
    {
      "cell_type": "code",
      "source": [
        "client = MongoClient('[LINK DE CONEXÃO COM O BANCO DE DADOS MONGODB]')"
      ],
      "metadata": {
        "id": "4qMRctOWJ9jj"
      },
      "execution_count": null,
      "outputs": []
    },
    {
      "cell_type": "code",
      "source": [
        "db = client['Projteste']\n",
        "collection = db['ProjtestePspark']"
      ],
      "metadata": {
        "id": "3FX7sUxvKYQs"
      },
      "execution_count": null,
      "outputs": []
    },
    {
      "cell_type": "code",
      "source": [
        "df_dict = psdf.to_dict(\"records\")\n",
        "collection.insert_many(df_dict)"
      ],
      "metadata": {
        "colab": {
          "base_uri": "https://localhost:8080/"
        },
        "id": "j4bDv1igKmub",
        "outputId": "96b55d4f-1bbb-42a6-faad-45c3386648f9"
      },
      "execution_count": null,
      "outputs": [
        {
          "output_type": "execute_result",
          "data": {
            "text/plain": [
              "<pymongo.results.InsertManyResult at 0x7f88d9cf7370>"
            ]
          },
          "metadata": {},
          "execution_count": 41
        }
      ]
    },
    {
      "cell_type": "markdown",
      "source": [
        "## **Subindo o arquivo para a bucket**"
      ],
      "metadata": {
        "id": "6Ui7TgPi5mdP"
      }
    },
    {
      "cell_type": "code",
      "source": [
        "dfs.write.format('csv').save('[CAMINHO DA PASTA PARA SALVAR O ARQUIVO]')"
      ],
      "metadata": {
        "id": "VUokhIJg5oWO"
      },
      "execution_count": null,
      "outputs": []
    }
  ]
}